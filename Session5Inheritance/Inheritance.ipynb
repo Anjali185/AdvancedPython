{
 "cells": [
  {
   "cell_type": "markdown",
   "metadata": {},
   "source": [
    "![Alt text](image.png)"
   ]
  },
  {
   "cell_type": "markdown",
   "metadata": {},
   "source": [
    "# Types of inheritance\n",
    "1.  Single Inheritance\n",
    "2.  Multilevel Inheritance\n",
    "3.  Hierarchical Inheritance"
   ]
  },
  {
   "cell_type": "markdown",
   "metadata": {},
   "source": [
    "![Alt text](image-1.png)"
   ]
  },
  {
   "cell_type": "code",
   "execution_count": 2,
   "metadata": {},
   "outputs": [],
   "source": [
    "class Person:\n",
    "\n",
    "    def __init__(self,name,age):\n",
    "        self.name = name\n",
    "        self.age = age\n",
    "    \n",
    "    def introduce(self):\n",
    "        print(f'My name is {self.name} and age is {self.age}')"
   ]
  },
  {
   "cell_type": "code",
   "execution_count": 3,
   "metadata": {},
   "outputs": [],
   "source": [
    "class Employee(Person):\n",
    "\n",
    "    def __init__(self, name, age, company):\n",
    "        super().__init__(name, age)\n",
    "        self.company = company\n",
    "\n",
    "    def work(self):\n",
    "        super().introduce()\n",
    "        print(f'I work for {self.company}')\n",
    "        "
   ]
  },
  {
   "cell_type": "code",
   "execution_count": 4,
   "metadata": {},
   "outputs": [],
   "source": [
    "c1 = Employee('Anjali',34,'Barclays')"
   ]
  },
  {
   "cell_type": "code",
   "execution_count": 6,
   "metadata": {},
   "outputs": [
    {
     "name": "stdout",
     "output_type": "stream",
     "text": [
      "My name is Anjali and age is 34\n"
     ]
    }
   ],
   "source": [
    "c1.introduce()"
   ]
  },
  {
   "cell_type": "code",
   "execution_count": 7,
   "metadata": {},
   "outputs": [
    {
     "name": "stdout",
     "output_type": "stream",
     "text": [
      "My name is Anjali and age is 34\n",
      "I work for Barclays\n"
     ]
    }
   ],
   "source": [
    "c1.work()"
   ]
  },
  {
   "cell_type": "code",
   "execution_count": 15,
   "metadata": {},
   "outputs": [],
   "source": [
    "# Multilevel Inheritance\n",
    "\n",
    "class Employee:\n",
    "\n",
    "    def __init__(self,name,emp_id):\n",
    "        self.name = name\n",
    "        self.emp_id = emp_id\n",
    "\n",
    "    def get_employee_info(self):\n",
    "        print(f'Employee Name : {self.name}  Emp Id : {self.emp_id}')"
   ]
  },
  {
   "cell_type": "code",
   "execution_count": 16,
   "metadata": {},
   "outputs": [],
   "source": [
    "class Manager(Employee):\n",
    "\n",
    "    def __init__(self, name, emp_id, department):\n",
    "        super().__init__(name, emp_id)\n",
    "        self.department = department\n",
    "\n",
    "    def get_manager_info(self):\n",
    "        super().get_employee_info()\n",
    "        print(f'{self.name} department is {self.department}')"
   ]
  },
  {
   "cell_type": "code",
   "execution_count": 17,
   "metadata": {},
   "outputs": [],
   "source": [
    "class ProjectManager(Manager):\n",
    "\n",
    "    def __init__(self, name, emp_id, department, project):\n",
    "        super().__init__(name, emp_id, department)\n",
    "        self.project = project\n",
    "\n",
    "    def get_projectm_info(self):\n",
    "        super().get_manager_info()\n",
    "        print(f'{self.name} project is {self.project}')\n"
   ]
  },
  {
   "cell_type": "code",
   "execution_count": 18,
   "metadata": {},
   "outputs": [],
   "source": [
    "m1 = ProjectManager('Anjali',2424,'Banking','Data Science')"
   ]
  },
  {
   "cell_type": "code",
   "execution_count": 19,
   "metadata": {},
   "outputs": [
    {
     "name": "stdout",
     "output_type": "stream",
     "text": [
      "Employee Name : Anjali  Emp Id : 2424\n",
      "Anjali department is Banking\n",
      "Anjali project is Data Science\n"
     ]
    }
   ],
   "source": [
    "m1.get_projectm_info()"
   ]
  },
  {
   "cell_type": "code",
   "execution_count": 20,
   "metadata": {},
   "outputs": [
    {
     "name": "stdout",
     "output_type": "stream",
     "text": [
      "Employee Name : Anjali  Emp Id : 2424\n",
      "Anjali department is Banking\n"
     ]
    }
   ],
   "source": [
    "m1.get_manager_info()"
   ]
  },
  {
   "cell_type": "code",
   "execution_count": 21,
   "metadata": {},
   "outputs": [
    {
     "name": "stdout",
     "output_type": "stream",
     "text": [
      "Employee Name : Anjali  Emp Id : 2424\n"
     ]
    }
   ],
   "source": [
    "m1.get_employee_info()"
   ]
  },
  {
   "cell_type": "markdown",
   "metadata": {},
   "source": [
    "## Hierarchical Inheritance"
   ]
  },
  {
   "cell_type": "code",
   "execution_count": 59,
   "metadata": {},
   "outputs": [],
   "source": [
    "class Vehicle:\n",
    "\n",
    "    def __init__(self,speed,direction):\n",
    "        self.speed = speed\n",
    "        self.direction = direction\n",
    "\n",
    "    def accelerate(self):\n",
    "        self.speed = self.speed + 10\n",
    "        print(f'Vehicle speed is increased by 10.Current Speed is {self.speed}')\n",
    "\n",
    "    def turn(self,new_dir):\n",
    "        self.direction = new_dir\n",
    "        print(f'Direction of vehicle is changed to {self.direction}')"
   ]
  },
  {
   "cell_type": "code",
   "execution_count": 60,
   "metadata": {},
   "outputs": [],
   "source": [
    "class Car(Vehicle):\n",
    "\n",
    "    def __init__(self, speed, direction, num_doors):\n",
    "        super().__init__(speed, direction)\n",
    "        self.num_doors = num_doors\n",
    "\n",
    "    def open_door(self):\n",
    "        print(f'Car door is Opened')\n",
    "\n",
    "    def close_door(self):\n",
    "        print(f'Car door is closed')"
   ]
  },
  {
   "cell_type": "code",
   "execution_count": 61,
   "metadata": {},
   "outputs": [],
   "source": [
    "class Bicycle(Vehicle):\n",
    "\n",
    "    def __init__(self, speed, direction, num_gears, frame_size):\n",
    "        super().__init__(speed, direction)\n",
    "        self.num_gears = num_gears\n",
    "        self.frame_size = frame_size\n",
    "\n",
    "    def shift_gear(self):\n",
    "        print(f'Bicycle gear Shifted')\n",
    "    \n",
    "    def adjust_seat(self):\n",
    "        print(f'Bicycle seat Shifted')"
   ]
  },
  {
   "cell_type": "code",
   "execution_count": 62,
   "metadata": {},
   "outputs": [],
   "source": [
    "cv1 = Car(50,'South',4)\n"
   ]
  },
  {
   "cell_type": "code",
   "execution_count": 63,
   "metadata": {},
   "outputs": [],
   "source": [
    "bv1 = Bicycle(10,'North',2,56)"
   ]
  },
  {
   "cell_type": "code",
   "execution_count": 64,
   "metadata": {},
   "outputs": [
    {
     "name": "stdout",
     "output_type": "stream",
     "text": [
      "Car door is closed\n"
     ]
    }
   ],
   "source": [
    "cv1.close_door()"
   ]
  },
  {
   "cell_type": "code",
   "execution_count": 65,
   "metadata": {},
   "outputs": [
    {
     "name": "stdout",
     "output_type": "stream",
     "text": [
      "Vehicle speed is increased by 10.Current Speed is 60\n"
     ]
    }
   ],
   "source": [
    "cv1.accelerate()"
   ]
  },
  {
   "cell_type": "code",
   "execution_count": 67,
   "metadata": {},
   "outputs": [
    {
     "name": "stdout",
     "output_type": "stream",
     "text": [
      "Direction of vehicle is changed to West\n"
     ]
    }
   ],
   "source": [
    "cv1.turn('West')"
   ]
  }
 ],
 "metadata": {
  "kernelspec": {
   "display_name": "venv",
   "language": "python",
   "name": "python3"
  },
  "language_info": {
   "codemirror_mode": {
    "name": "ipython",
    "version": 3
   },
   "file_extension": ".py",
   "mimetype": "text/x-python",
   "name": "python",
   "nbconvert_exporter": "python",
   "pygments_lexer": "ipython3",
   "version": "3.11.5"
  },
  "orig_nbformat": 4
 },
 "nbformat": 4,
 "nbformat_minor": 2
}
